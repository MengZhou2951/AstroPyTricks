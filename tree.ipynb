{
 "cells": [
  {
   "attachments": {},
   "cell_type": "markdown",
   "metadata": {},
   "source": [
    "Learn from\n",
    "https://github.com/brennerm/PyTricks/blob/master/tree.py\n",
    "\n",
    "See description in\n",
    "https://gist.github.com/hrldcpr/2012250\n",
    "\n",
    "Auto-generate nested dict. "
   ]
  },
  {
   "cell_type": "code",
   "execution_count": 3,
   "metadata": {},
   "outputs": [],
   "source": [
    "from collections import defaultdict"
   ]
  },
  {
   "cell_type": "code",
   "execution_count": 4,
   "metadata": {},
   "outputs": [],
   "source": [
    "tree = lambda: defaultdict(tree)"
   ]
  },
  {
   "cell_type": "code",
   "execution_count": 17,
   "metadata": {},
   "outputs": [],
   "source": [
    "users = tree()\n",
    "users['harold']['username'] = 'chopper'\n",
    "users['matt']['password'] = 'hunter2'\n",
    "users['A']['B']['C']['D'] = 'E'"
   ]
  },
  {
   "cell_type": "code",
   "execution_count": 19,
   "metadata": {},
   "outputs": [
    {
     "name": "stdout",
     "output_type": "stream",
     "text": [
      "chopper\n",
      "hunter2\n",
      "E\n"
     ]
    }
   ],
   "source": [
    "print(users['harold']['username'])\n",
    "print(users['matt']['password'])\n",
    "print(users['A']['B']['C']['D'])"
   ]
  }
 ],
 "metadata": {
  "kernelspec": {
   "display_name": "base",
   "language": "python",
   "name": "python3"
  },
  "language_info": {
   "codemirror_mode": {
    "name": "ipython",
    "version": 3
   },
   "file_extension": ".py",
   "mimetype": "text/x-python",
   "name": "python",
   "nbconvert_exporter": "python",
   "pygments_lexer": "ipython3",
   "version": "3.9.12"
  },
  "orig_nbformat": 4
 },
 "nbformat": 4,
 "nbformat_minor": 2
}
